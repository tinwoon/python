{
 "cells": [
  {
   "cell_type": "markdown",
   "metadata": {},
   "source": [
    "## 1.a=\"Hello Python\" 문자열을 Slicing과 연결 연산자 (+)를 사용하여 \"Python Hello\"로 변경하시오.•[주의] a 변수 자체에 \"Python Hello\" 문자열이 저장되어야 함\n"
   ]
  },
  {
   "cell_type": "code",
   "execution_count": 130,
   "metadata": {},
   "outputs": [
    {
     "name": "stdout",
     "output_type": "stream",
     "text": [
      "Python Hello\n"
     ]
    }
   ],
   "source": [
    "a=\"Hello Python\"\n",
    "b=a[0:5]#a의 hello 문자열을 슬라이싱하여 b에 저장\n",
    "c=a[6:12]#a의 python 문자열을 슬라이싱하여 c에 저장\n",
    "a=c+\" \"+b\n",
    "print(a)"
   ]
  },
  {
   "cell_type": "markdown",
   "metadata": {},
   "source": [
    "문자열을 슬라이싱하여 따로 저장 후 그대로 붙여 넣는 방법"
   ]
  },
  {
   "cell_type": "markdown",
   "metadata": {},
   "source": [
    "## 2.b=\"Hello Python World\" 문자열을 Slicing과 연결 연산자 (+)를 사용하여 \"World Python Hello\"로 변경하시오.•[주의] b 변수 자체에 \"World Python Hello\" 문자열이 저장되어야 함 \n"
   ]
  },
  {
   "cell_type": "code",
   "execution_count": 15,
   "metadata": {},
   "outputs": [
    {
     "name": "stdout",
     "output_type": "stream",
     "text": [
      "World Python Hello\n"
     ]
    }
   ],
   "source": [
    "b=\"Hello Python World\" \n",
    "b1=b[0:5]#b의 hello 문자열을 슬라이싱하여 b1에 저장\n",
    "b2=b[6:12]#b의 python 문자열을 슬라이싱하여 b2에 저장\n",
    "b3=b[13:18]#b의 world 문자열을 슬라이싱하여 b3에 저장\n",
    "b=b3+\" \"+b2+\" \"+b1\n",
    "print(b)"
   ]
  },
  {
   "cell_type": "markdown",
   "metadata": {},
   "source": [
    "1번문제와 같이 따로 저장후 붙여넣음"
   ]
  },
  {
   "cell_type": "markdown",
   "metadata": {},
   "source": [
    "## 3.s=\"python\"에 대해 다음 문제를 풀어보시오.A.s[0], s[0][0], s[0][0][0]은 각각 어떤 값이 나오는지 확인하고 그 이유를 나름대로 설명해 보시오.\n",
    "B.s[-100], s[100]은 값이 나오는지 에러가 나오는지 확인하고 그 결과에 대한 이유를 나름대로 설명해 보시오.\n",
    "C.s[-100, 100]은 값이 나오는지 에러가 나오는지 확인하고 그 결과에 대한 이유를 나름대로 설명해 보시오.\n",
    "D.s[1:-1]의 결과를 확인하고 그 결과에 대한 이유를 정확하게 설명하시오.\n",
    "E.s[3:-3]의 결과를 확인하고 그 결과에 대한 이유를 정확하게 설명하시오.\n"
   ]
  },
  {
   "cell_type": "code",
   "execution_count": 17,
   "metadata": {},
   "outputs": [
    {
     "name": "stdout",
     "output_type": "stream",
     "text": [
      "p\n",
      "p\n",
      "p\n"
     ]
    }
   ],
   "source": [
    "#3.A\n",
    "s=\"python\"\n",
    "print(s[0])\n",
    "print(s[0][0])\n",
    "print(s[0][0][0])\n",
    "#p의 값이 인덱싱 0의 값이 p이기 때문에 s[0]가 p가 나오며 객체가 하나이기 때문에 \n",
    "#s[0][0],s[0][0][0]의 값이 p가 나온다."
   ]
  },
  {
   "cell_type": "code",
   "execution_count": 19,
   "metadata": {
    "scrolled": true
   },
   "outputs": [
    {
     "ename": "IndexError",
     "evalue": "string index out of range",
     "output_type": "error",
     "traceback": [
      "\u001b[1;31m---------------------------------------------------------------------------\u001b[0m",
      "\u001b[1;31mIndexError\u001b[0m                                Traceback (most recent call last)",
      "\u001b[1;32m<ipython-input-19-e558039d05b8>\u001b[0m in \u001b[0;36m<module>\u001b[1;34m()\u001b[0m\n\u001b[0;32m      1\u001b[0m \u001b[1;31m#3.B\u001b[0m\u001b[1;33m\u001b[0m\u001b[1;33m\u001b[0m\u001b[0m\n\u001b[1;32m----> 2\u001b[1;33m \u001b[0mprint\u001b[0m\u001b[1;33m(\u001b[0m\u001b[0ms\u001b[0m\u001b[1;33m[\u001b[0m\u001b[1;33m-\u001b[0m\u001b[1;36m100\u001b[0m\u001b[1;33m]\u001b[0m\u001b[1;33m)\u001b[0m\u001b[1;33m\u001b[0m\u001b[0m\n\u001b[0m\u001b[0;32m      3\u001b[0m \u001b[0mprint\u001b[0m\u001b[1;33m(\u001b[0m\u001b[0ms\u001b[0m\u001b[1;33m[\u001b[0m\u001b[1;36m100\u001b[0m\u001b[1;33m]\u001b[0m\u001b[1;33m)\u001b[0m\u001b[1;33m\u001b[0m\u001b[0m\n",
      "\u001b[1;31mIndexError\u001b[0m: string index out of range"
     ]
    }
   ],
   "source": [
    "#3.B\n",
    "print(s[-100])\n",
    "print(s[100])\n",
    "#s의 인덱싱 값에 비해 100,-100이 너무 크므로 존재하지 않는다"
   ]
  },
  {
   "cell_type": "code",
   "execution_count": 20,
   "metadata": {},
   "outputs": [
    {
     "ename": "TypeError",
     "evalue": "string indices must be integers",
     "output_type": "error",
     "traceback": [
      "\u001b[1;31m---------------------------------------------------------------------------\u001b[0m",
      "\u001b[1;31mTypeError\u001b[0m                                 Traceback (most recent call last)",
      "\u001b[1;32m<ipython-input-20-a34e1178fd41>\u001b[0m in \u001b[0;36m<module>\u001b[1;34m()\u001b[0m\n\u001b[0;32m      1\u001b[0m \u001b[1;31m#3.C\u001b[0m\u001b[1;33m\u001b[0m\u001b[1;33m\u001b[0m\u001b[0m\n\u001b[1;32m----> 2\u001b[1;33m \u001b[0mprint\u001b[0m\u001b[1;33m(\u001b[0m\u001b[0ms\u001b[0m\u001b[1;33m[\u001b[0m\u001b[1;33m-\u001b[0m\u001b[1;36m100\u001b[0m\u001b[1;33m,\u001b[0m\u001b[1;36m100\u001b[0m\u001b[1;33m]\u001b[0m\u001b[1;33m)\u001b[0m\u001b[1;33m\u001b[0m\u001b[0m\n\u001b[0m",
      "\u001b[1;31mTypeError\u001b[0m: string indices must be integers"
     ]
    }
   ],
   "source": [
    "#3.C\n",
    "print(s[-100,100])\n",
    "#문자열 색인이 정수형태를 가지기 때문에 오류가 난다."
   ]
  },
  {
   "cell_type": "code",
   "execution_count": 21,
   "metadata": {},
   "outputs": [
    {
     "name": "stdout",
     "output_type": "stream",
     "text": [
      "ytho\n"
     ]
    }
   ],
   "source": [
    "#3.D\n",
    "print(s[1:-1])\n",
    "#slicing 함수형식에서 [start(included):stop(excluded):step]이므로 indexing1인 y부터\n",
    "#indexing-1인 n전까지의 s를 프린트함으로 ytho이다."
   ]
  },
  {
   "cell_type": "code",
   "execution_count": 24,
   "metadata": {},
   "outputs": [
    {
     "name": "stdout",
     "output_type": "stream",
     "text": [
      "\n"
     ]
    }
   ],
   "source": [
    "#3.E\n",
    "print(s[3:-3])\n",
    "#마찬가지로slicing 함수형식에서 [start(included):stop(excluded):step]이므로 indexing3인 h부터\n",
    "#indexing-1인 h전까지의 s를 프린트하는데 마지막 h가 포함되지 않음으로 print값이 없다."
   ]
  },
  {
   "cell_type": "markdown",
   "metadata": {},
   "source": [
    "A.p의 값이 인덱싱 0의 값이 p이기 때문에 s[0]가 p가 나오며 객체가 하나이기 때문에 \n",
    "s[0][0],s[0][0][0]의 값이 p가 나온다.\n",
    "B.s의 인덱싱 값에 비해 100,-100이 너무 크므로 존재하지 않는다\n",
    "C.문자열 색인이 정수형태를 가지기 때문에 오류가 난다.\n",
    "D.slicing 함수형식에서 [start(included):stop(excluded):step]이므로 indexing1인 y부터\n",
    "indexing-1인 n전까지의 s를 프린트함으로 ytho이다.\n",
    "E.마찬가지로slicing 함수형식에서 [start(included):stop(excluded):step]이므로 indexing3인 h부터 indexing-1인 h전까지의 s를 프린트하는데 마지막 h가 포함되지 않음으로 print값이 없다."
   ]
  },
  {
   "cell_type": "markdown",
   "metadata": {},
   "source": [
    "## 4.for문을 활용하여 1부터 100사이의 홀수를 출력하시오."
   ]
  },
  {
   "cell_type": "code",
   "execution_count": 32,
   "metadata": {},
   "outputs": [
    {
     "name": "stdout",
     "output_type": "stream",
     "text": [
      "1\n",
      "3\n",
      "5\n",
      "7\n",
      "9\n",
      "11\n",
      "13\n",
      "15\n",
      "17\n",
      "19\n",
      "21\n",
      "23\n",
      "25\n",
      "27\n",
      "29\n",
      "31\n",
      "33\n",
      "35\n",
      "37\n",
      "39\n",
      "41\n",
      "43\n",
      "45\n",
      "47\n",
      "49\n",
      "51\n",
      "53\n",
      "55\n",
      "57\n",
      "59\n",
      "61\n",
      "63\n",
      "65\n",
      "67\n",
      "69\n",
      "71\n",
      "73\n",
      "75\n",
      "77\n",
      "79\n",
      "81\n",
      "83\n",
      "85\n",
      "87\n",
      "89\n",
      "91\n",
      "93\n",
      "95\n",
      "97\n",
      "99\n"
     ]
    }
   ],
   "source": [
    "for x in range(1,100,2):\n",
    "    print(x)#x를 1부터 100까지 2의 step을 두고 print한다"
   ]
  },
  {
   "cell_type": "markdown",
   "metadata": {},
   "source": [
    "for문을 이용하여 1부터 100까지 2의 step을 두어 print하기"
   ]
  },
  {
   "cell_type": "markdown",
   "metadata": {},
   "source": [
    "## 5.while문을 활용하여 1부터 100사이의 짝수의 합을 계산하여 출력하시오."
   ]
  },
  {
   "cell_type": "code",
   "execution_count": 4,
   "metadata": {},
   "outputs": [
    {
     "name": "stdout",
     "output_type": "stream",
     "text": [
      "x의 값은: 2\n",
      "합의 값은 2\n",
      "x의 값은: 4\n",
      "합의 값은 6\n",
      "x의 값은: 6\n",
      "합의 값은 12\n",
      "x의 값은: 8\n",
      "합의 값은 20\n",
      "x의 값은: 10\n",
      "합의 값은 30\n",
      "x의 값은: 12\n",
      "합의 값은 42\n",
      "x의 값은: 14\n",
      "합의 값은 56\n",
      "x의 값은: 16\n",
      "합의 값은 72\n",
      "x의 값은: 18\n",
      "합의 값은 90\n",
      "x의 값은: 20\n",
      "합의 값은 110\n",
      "x의 값은: 22\n",
      "합의 값은 132\n",
      "x의 값은: 24\n",
      "합의 값은 156\n",
      "x의 값은: 26\n",
      "합의 값은 182\n",
      "x의 값은: 28\n",
      "합의 값은 210\n",
      "x의 값은: 30\n",
      "합의 값은 240\n",
      "x의 값은: 32\n",
      "합의 값은 272\n",
      "x의 값은: 34\n",
      "합의 값은 306\n",
      "x의 값은: 36\n",
      "합의 값은 342\n",
      "x의 값은: 38\n",
      "합의 값은 380\n",
      "x의 값은: 40\n",
      "합의 값은 420\n",
      "x의 값은: 42\n",
      "합의 값은 462\n",
      "x의 값은: 44\n",
      "합의 값은 506\n",
      "x의 값은: 46\n",
      "합의 값은 552\n",
      "x의 값은: 48\n",
      "합의 값은 600\n",
      "x의 값은: 50\n",
      "합의 값은 650\n",
      "x의 값은: 52\n",
      "합의 값은 702\n",
      "x의 값은: 54\n",
      "합의 값은 756\n",
      "x의 값은: 56\n",
      "합의 값은 812\n",
      "x의 값은: 58\n",
      "합의 값은 870\n",
      "x의 값은: 60\n",
      "합의 값은 930\n",
      "x의 값은: 62\n",
      "합의 값은 992\n",
      "x의 값은: 64\n",
      "합의 값은 1056\n",
      "x의 값은: 66\n",
      "합의 값은 1122\n",
      "x의 값은: 68\n",
      "합의 값은 1190\n",
      "x의 값은: 70\n",
      "합의 값은 1260\n",
      "x의 값은: 72\n",
      "합의 값은 1332\n",
      "x의 값은: 74\n",
      "합의 값은 1406\n",
      "x의 값은: 76\n",
      "합의 값은 1482\n",
      "x의 값은: 78\n",
      "합의 값은 1560\n",
      "x의 값은: 80\n",
      "합의 값은 1640\n",
      "x의 값은: 82\n",
      "합의 값은 1722\n",
      "x의 값은: 84\n",
      "합의 값은 1806\n",
      "x의 값은: 86\n",
      "합의 값은 1892\n",
      "x의 값은: 88\n",
      "합의 값은 1980\n",
      "x의 값은: 90\n",
      "합의 값은 2070\n",
      "x의 값은: 92\n",
      "합의 값은 2162\n",
      "x의 값은: 94\n",
      "합의 값은 2256\n",
      "x의 값은: 96\n",
      "합의 값은 2352\n",
      "x의 값은: 98\n",
      "합의 값은 2450\n",
      "x의 값은: 100\n",
      "합의 값은 2550\n"
     ]
    }
   ],
   "source": [
    "x=0 #x의 값 초기화\n",
    "sum=0#x의 값을 넣을 sum초기화\n",
    "while(x<100):\n",
    "    x=x+2\n",
    "    sum=sum+x\n",
    "    print(\"x의 값은:\",x)\n",
    "    print(\"합의 값은\",sum)\n"
   ]
  },
  {
   "cell_type": "markdown",
   "metadata": {},
   "source": [
    "sum의 값에 step을 2씩 추가한 짝수를 100까지 계속추가하기"
   ]
  },
  {
   "cell_type": "markdown",
   "metadata": {},
   "source": [
    "## 6.사용자로 부터 임의의 정수를 입력받고, 해당 숫자를 역순으로 출력하는 프로그램을 작성하시오.\n"
   ]
  },
  {
   "cell_type": "code",
   "execution_count": 8,
   "metadata": {},
   "outputs": [
    {
     "name": "stdout",
     "output_type": "stream",
     "text": [
      "x의 값을 입력하시오3125\n",
      "x의 역순은: 5213\n"
     ]
    }
   ],
   "source": [
    "x=input(\"x의 값을 입력하시오\")##사용자로부터 x의 값을 받고\n",
    "print(\"x의 역순은:\",x[::-1])##x의 값을 역순으로 출력"
   ]
  },
  {
   "cell_type": "markdown",
   "metadata": {},
   "source": [
    "slicing을 사용하여 역순으로 출력"
   ]
  },
  {
   "cell_type": "markdown",
   "metadata": {},
   "source": [
    "## 7.사용자로 부터 정수를 입력받아서 1부터 그 사이에 존재하는 소수 (Prime number)를 출력하는 파이썬 프로그램을 작성하시오."
   ]
  },
  {
   "cell_type": "code",
   "execution_count": 121,
   "metadata": {
    "scrolled": true
   },
   "outputs": [
    {
     "name": "stdout",
     "output_type": "stream",
     "text": [
      "정수를 입력하시오15\n",
      "2\n",
      "3\n",
      "5\n",
      "7\n",
      "11\n",
      "13\n"
     ]
    }
   ],
   "source": [
    "import math\n",
    "stack=0\n",
    "x=int(input(\"정수를 입력하시오\"))\n",
    "for y1 in range(1,x):#1부터 받은값까지의 자연수y1\n",
    "    stack=0#소수 판별인수\n",
    "    for y2 in range(2,y1):\n",
    "        if int(y1)%int(y2)==0:#y1을 1부터 자기자신까지 나눠서 나머지가 0이면 소수가 아님\n",
    "            stack=stack+1#소수가 아니면 stack은 1\n",
    "    if stack==0 and y1!=1:#stack이 0이면 소수\n",
    "        print(y1)\n",
    "            \n",
    "  \n",
    "                  \n",
    "\n",
    "                    \n",
    "                \n",
    "    "
   ]
  },
  {
   "cell_type": "markdown",
   "metadata": {},
   "source": [
    "정수를 자기 자신까지 계속 나누어서 나머지가 0이면 소수가 아니고 나머지가 모두 0이 아니면 소수로 증명"
   ]
  },
  {
   "cell_type": "markdown",
   "metadata": {},
   "source": [
    "## 8.[ACM-ICPC 문제 2441번] •별찍기-4\n"
   ]
  },
  {
   "cell_type": "code",
   "execution_count": 122,
   "metadata": {},
   "outputs": [
    {
     "name": "stdout",
     "output_type": "stream",
     "text": [
      "5\n",
      "*****\n",
      " ****\n",
      "  ***\n",
      "   **\n",
      "    *\n"
     ]
    }
   ],
   "source": [
    "x= int(input())\n",
    "for i in range(1,x+1):#i 만큼 반복하기\n",
    "    print(\" \"*(i-1)+\"*\"*(x+1-i))#처음수의 0부터공백을 추가하고 나머지만큼 별 넣기 "
   ]
  },
  {
   "cell_type": "markdown",
   "metadata": {},
   "source": [
    "공백문자와 별을 교대로 하나씩 줄여가면서 출력"
   ]
  },
  {
   "cell_type": "markdown",
   "metadata": {},
   "source": [
    "## 9.[ACM-ICPC 문제 11721번] •열 개씩 끊어 출력하기"
   ]
  },
  {
   "cell_type": "code",
   "execution_count": 124,
   "metadata": {},
   "outputs": [
    {
     "name": "stdout",
     "output_type": "stream",
     "text": [
      "OneTwoThreeFourFiveSixSevenEightNineTen\n",
      "OneTwoThre\n",
      "eFourFiveS\n",
      "ixSevenEig\n",
      "htNineTen\n",
      "\n",
      "\n",
      "\n",
      "\n",
      "\n",
      "\n",
      "\n",
      "\n",
      "\n",
      "\n",
      "\n",
      "\n",
      "\n",
      "\n",
      "\n",
      "\n",
      "\n",
      "\n",
      "\n",
      "\n",
      "\n",
      "\n",
      "\n",
      "\n",
      "\n",
      "\n",
      "\n",
      "\n",
      "\n",
      "\n",
      "\n",
      "\n",
      "\n",
      "\n",
      "\n"
     ]
    }
   ],
   "source": [
    "x=input()\n",
    "y=10\n",
    "for i in range(len(x)):#x의 길이 만큼 i를 반복하고\n",
    "    print(x[y-10:y])#x를 프린트하기\n",
    "    y=y+10#전부다 프린트하면 다시 10글자를 프린트하기 위해 y초기화"
   ]
  },
  {
   "cell_type": "markdown",
   "metadata": {},
   "source": [
    "10글자씩 출력하고 출력이 완료되면 다시 10글자출력을 반복하는 형식으로 만듬"
   ]
  },
  {
   "cell_type": "markdown",
   "metadata": {},
   "source": [
    "## 10.1.[ACM-ICPC 문제 2839번]•설탕배달"
   ]
  },
  {
   "cell_type": "code",
   "execution_count": 125,
   "metadata": {},
   "outputs": [
    {
     "name": "stdout",
     "output_type": "stream",
     "text": [
      "55\n",
      "11\n"
     ]
    }
   ],
   "source": [
    "w=int(input())\n",
    "stack1=0#봉지가 아무리해도 적합하지 않을경우 stack1값 올려줌\n",
    "stack2=0#이미 최상의 값이 나왔을경우 stack2값을 올려줌\n",
    "sum=0\n",
    "for x in range(w):\n",
    "    for y in range(w):\n",
    "        if 3*x+5*y==w and stack2==0:#3키로 봉지와 5키로 봉지로 무게를 맞추었고 이미 전에 적합하게 맞춘 봉지가 없을때\n",
    "            tmp=sum\n",
    "            sum=sum+x+y\n",
    "            if(sum>tmp):#합한 봉지의 값이 예전의 것보다 좋다면 \n",
    "                print(sum)\n",
    "                stack2=stack2+1\n",
    "             \n",
    "        else: \n",
    "            stack1=stack1+1\n",
    "if stack1==w*w:#봉지가 아무리해도 적합하지 않을때\n",
    "    print(-1)"
   ]
  },
  {
   "cell_type": "markdown",
   "metadata": {},
   "source": [
    "봉지의 값이 적합하지 않을경우 -1이 출력, 적합할때는 가장 값이 적당한 값을 찾아서 출력하도록 유도"
   ]
  },
  {
   "cell_type": "code",
   "execution_count": null,
   "metadata": {},
   "outputs": [],
   "source": []
  }
 ],
 "metadata": {
  "kernelspec": {
   "display_name": "Python 3",
   "language": "python",
   "name": "python3"
  },
  "language_info": {
   "codemirror_mode": {
    "name": "ipython",
    "version": 3
   },
   "file_extension": ".py",
   "mimetype": "text/x-python",
   "name": "python",
   "nbconvert_exporter": "python",
   "pygments_lexer": "ipython3",
   "version": "3.6.5"
  }
 },
 "nbformat": 4,
 "nbformat_minor": 2
}
