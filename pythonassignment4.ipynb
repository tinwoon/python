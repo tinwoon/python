{
 "cells": [
  {
   "cell_type": "markdown",
   "metadata": {},
   "source": [
    "# Assignment 4"
   ]
  },
  {
   "cell_type": "markdown",
   "metadata": {},
   "source": [
    "# [1번 문제]\n",
    "\n",
    "파일 s.txt 내의 다음 내용과 함께 아래 문제의 코드를 제시하시오.\n",
    "\n",
    "\n",
    "pig ham\n",
    "\n",
    "cat dog\n",
    " \n",
    "ham bird\n",
    " \n",
    "dog pig\n",
    "\n",
    "\n",
    "\n",
    "\n",
    "\n",
    "\n",
    "\n",
    "           - 1) 파일 s.txt을 읽어서 각 라인에 있는 첫 번째 단어(문자열) 자체들을 기준으로 라인별 정렬후 파일 s1.txt에 그 결과를 기록하는 코드를 작성하시오. 즉, 프로그램 수행 후 s1.txt에 있는 파일 내용은 다음과 같다.\n"
   ]
  },
  {
   "cell_type": "code",
   "execution_count": 12,
   "metadata": {},
   "outputs": [],
   "source": [
    "f1=open('s.txt','w')#f1을 s.txt에 쓰기모드로 만듬\n",
    "s='''pig ham\n",
    "cat dog\n",
    "ham bird\n",
    "dog pig'''\n",
    "f1.write(s)#f1에 s를 쓰고 닫는다\n",
    "f1.close()"
   ]
  },
  {
   "cell_type": "code",
   "execution_count": 27,
   "metadata": {},
   "outputs": [
    {
     "name": "stdout",
     "output_type": "stream",
     "text": [
      "cat dog\n",
      "dog pig\n",
      "ham bird\n",
      "pig ham\n"
     ]
    }
   ],
   "source": [
    "s_tmp=[]\n",
    "f1=open('s.txt')\n",
    "f2=open('s1.txt','w')\n",
    "s_tmp=f1.read().split('\\n')#f1의 파일을 읽어서 줄단위를 제거해 s_tmp에 넣는다\n",
    "s_tmp.sort()#s_tmp값을 정렬한다 \n",
    "f2.write('\\n'.join(s_tmp))#정렬한 값을 줄바꿈 문자를 붙여서 f2에 넣는다\n",
    "f1.close()\n",
    "f2.close()\n",
    "f2=open('s1.txt')\n",
    "print(f2.read())\n",
    "\n",
    "   "
   ]
  },
  {
   "cell_type": "markdown",
   "metadata": {},
   "source": [
    "2) 파일 s.txt을 읽어서 각 라인에 있는 두 번째 단어(문자열) 자체들을 기준으로 라인별 정렬후 파일 s2.txt에 그 결과를 기록하는 코드를 작성하시오. 즉, 프로그램 수행 후 s2.txt에 있는 파일 내용은 다음과 같다.\n",
    "\n",
    "\n",
    "ham bird\n",
    "\n",
    "cat dog\n",
    "\n",
    "pig ham\n",
    "\n",
    "dog pig\n"
   ]
  },
  {
   "cell_type": "code",
   "execution_count": 28,
   "metadata": {},
   "outputs": [],
   "source": [
    "f1=open('s.txt','w')#f1을 s.txt에 쓰기모드로 만듬\n",
    "s='''pig ham\n",
    "cat dog\n",
    "ham bird\n",
    "dog pig'''\n",
    "f1.write(s)#f1에 s를 쓰고 닫는다\n",
    "f1.close()"
   ]
  },
  {
   "cell_type": "code",
   "execution_count": 45,
   "metadata": {},
   "outputs": [
    {
     "name": "stdout",
     "output_type": "stream",
     "text": [
      "4\n",
      "4\n",
      "4\n",
      "4\n"
     ]
    }
   ],
   "source": [
    "def cmp(a):\n",
    "    return a[1]\n",
    "\n",
    "s_tmp=[]\n",
    "a=[\"\",\"\",\"\",\"\"]\n",
    "f1=open('s.txt')\n",
    "f2=open('s1.txt','w')\n",
    "s_tmp=f1.read().split('\\n')#f1의 파일을 읽어서 줄단위를 제거해 s_tmp에 넣는다\n",
    "s_tmp.sort(key=s_tmp)\n",
    "for i in range(len(s_tmp)):\n",
    "    a[i]=s_tmp[i].find(' ')+1\n",
    "for i in range(len(s_tmp)-1):\n",
    "    if(s_tmp[i][a[i]]>s_tmp[i][a[i]]):\n",
    "        \n",
    "\n",
    "        \n",
    "\n"
   ]
  },
  {
   "cell_type": "markdown",
   "metadata": {},
   "source": [
    " - 3) 파일 s.txt을 읽어서 각 라인들에 있는 모든 단어들을 순차적으로 다시 나열하되 각 라인에 세 개의 단어들이 오도록 하여 s3.txt에 기록하는 코드를 작성하시오. 즉, 프로그램 수행 후 s3.txt에 있는 파일 내용은 다음과 같다.\n",
    "\n",
    "\n",
    "pig ham cat\n",
    "\n",
    "dog ham bird\n",
    " \n",
    "dog pig\n"
   ]
  },
  {
   "cell_type": "code",
   "execution_count": 46,
   "metadata": {},
   "outputs": [],
   "source": [
    "f1=open('s.txt','w')#f1을 s.txt에 쓰기모드로 만듬\n",
    "s='''pig ham\n",
    "cat dog\n",
    "ham bird\n",
    "dog pig'''\n",
    "f1.write(s)#f1에 s를 쓰고 닫는다\n",
    "f1.close()"
   ]
  },
  {
   "cell_type": "code",
   "execution_count": 65,
   "metadata": {
    "scrolled": true
   },
   "outputs": [
    {
     "name": "stdout",
     "output_type": "stream",
     "text": [
      "pig ham cat \n",
      "dog ham bird \n",
      "dog pig \n"
     ]
    }
   ],
   "source": [
    "s_tmp=[]\n",
    "index=0\n",
    "f1=open('s.txt')\n",
    "f2=open('s1.txt','w')\n",
    "s_tmp=f1.read().split('\\n')#줄바꿈으로 일단 나눈뒤에\n",
    "s_tmp=' '.join(s_tmp)#공백문자를 추가한 걸로 통일시킨다\n",
    "s_tmp=s_tmp.split(' ')#통일 시킨다음 다시 공백문자별로 나눈다\n",
    "for i in range(len(s_tmp)):\n",
    "    if(index<3):#0부터 3까지는 인덱스 한줄에 넣고\n",
    "        f2.write(s_tmp[i])\n",
    "        f2.write(\" \")\n",
    "        index=index+1\n",
    "    else:#글자가 세번 들어갔으면 줄바꿈을 추가\n",
    "        f2.write(\"\\n\")\n",
    "        f2.write(s_tmp[i])\n",
    "        f2.write(\" \")\n",
    "        index=1\n",
    "f1.close()\n",
    "f2.close()\n",
    "f2=open('s1.txt')\n",
    "print(f2.read())"
   ]
  },
  {
   "cell_type": "markdown",
   "metadata": {},
   "source": [
    "# [2번 문제]\n",
    "\n",
    "다음과 같은 조건들을 참고하여 회원 가입 및 로그인 프로그램을 작성하시오.\n",
    "•1) 프로그램 시작 후 다음과 같은 메시지가 출력되어 1, 2, 3 중 하나의 값을 입력 받도록 한다.\n",
    "\n",
    "Welcome to Our Service\n",
    "\n",
    "1.Sign Up\n",
    "\n",
    "2.Sign In\n",
    "\n",
    "3.Quit\n",
    "\n",
    "\n",
    "•2) 1을 선택하면 ID, Password, Name, School의 4가지 정보를 입력받아 파일에 저장하는 프로그램을 작성한다.◾2-1) 입력된 내용은 access.txt 라는 이름의 텍스트 파일 내에 저장된다. \n",
    "◾2-2) access.txt 파일의 각 라인에는 가입된 회원 각각의 정보가 \"[id]: [password], [name], [school]\" 형태로 저장된다.\n",
    "◾2-3) 즉, 가입 회원이 10명이면 access.txt 파일 내에 라인 수도 정확히 10개이다.\n",
    "◾2-4) 암호화 방식은 sha 모듈을 활용한다. sha 모듈 활용 방법은 본 문제의 마지막에 제시된 sha 활용 예를 참고한다.◦즉, access.txt 파일 내에 password 정보는 암호화 되어 저장되어야 한다.\n",
    "\n",
    "◾2-5) 회원 정보를 입력 받을 때 id를 입력 받은 직후 access.txt를 확인하여 이미 존재하는 id가 입력되었다면 다음 메시지를 출력하고 id 정보를 다시 입력받는다.◦Sorry, the entered ID is already used.\n",
    "\n",
    "\n",
    "•3) 2를 선택하면 ID, Password의 2가지 정보를 입력받는 프로그램을 작성한다.◾3-1) 입력된 ID 정보가 access.txt에 존재하지 않으면 다음과 같은 메시지를 출력하고 다시 입력받는다.◦Sorry, you are not a registered member.\n",
    "\n",
    "◾3-2) 입력된 ID가 올바르게 존재하지만 Password 정보가 access.txt 파일에 있는 정보와 불일치하면 다음과 같은 메시지를 출력하고 Password를 다시 입력받는다.◦Sorry, the entered password is not correct.\n",
    "◦이 때에도 사용자가 입력한 Password 정보와 함께 sha 모듈이 활용되어야 한다.\n",
    "\n",
    "◾3-3) 입력된 ID와 Password가 모두 올바르면 다음과 같은 메시지를 출력한다.◦Hello [name]!\n",
    "◦위 [name]에는 access.txt에 기록되어 있는 name 정보를 출력한다.\n",
    "\n",
    "\n",
    "•4) 3을 선택하면 프로그램이 끝난다.\n"
   ]
  },
  {
   "cell_type": "code",
   "execution_count": 3,
   "metadata": {
    "scrolled": false
   },
   "outputs": [
    {
     "name": "stdout",
     "output_type": "stream",
     "text": [
      "Welcome to Our Service\n",
      "1.Sign Up\n",
      "2.Sign In\n",
      "3.Quit\n",
      "3\n"
     ]
    }
   ],
   "source": [
    "import hashlib\n",
    "\n",
    "def menu_1():\n",
    "        f_access=open('access.txt','r')\n",
    "        id_index=[0,0,0,0,0,0,0,0,0,0]#id의 :문자열이 나타나는 인덱스 저장하는 배열\n",
    "        imf=[]\n",
    "        f_access.seek(0)\n",
    "        imf=f_access.read().split('\\n')#access파일에 있는 정보를 줄단위로 나누기\n",
    "        f_access.close()\n",
    "        f_access=open('access.txt','a')\n",
    "        id=input('enter the id\\n')\n",
    "        for i in range(len(imf)):\n",
    "            id_index[i]=imf[i].find(\":\")#나눈 정보를 다시 아이디로 나누기위해 인덱스를 찾고\n",
    "            if(imf[i][:id_index[i]]==id):#인덱스까지의 아이디를 얻은후 그값이 id랑 일치하는지 보기\n",
    "                print('Sorry, the entered ID is already used.')#일치하면 print함\n",
    "                menu_1()#메뉴 다시실행\n",
    "                return 0\n",
    "        password=input('enter the password\\n')#패스워드부터 이름 학교 넣기\n",
    "        password = hashlib.sha1(bytes(password,'utf-8')).hexdigest()\n",
    "        f_access.write(id\n",
    "        f_access.write(':')\n",
    "        f_access.write(password)\n",
    "        f_access.write(',')\n",
    "        f_access.write(name)\n",
    "        f_access.write(',')\n",
    "        f_access.write(school)\n",
    "        f_access.write('\\n')\n",
    "        f_access.close()\n",
    "        \n",
    "def menu_2():\n",
    "        id=input(\"input the id\")\n",
    "        password=input(\"input the password\")\n",
    "        f_access=open('access.txt','r')\n",
    "        id_index=[0,0,0,0,0,0,0,0,0,0]\n",
    "        id_save=[\"\",\"\",\"\",\"\",\"\",\"\",\"\",\"\",\"\",\"\"]#아이디 저장리스트\n",
    "        password_save=[\"\",\"\",\"\",\"\",\"\",\"\",\"\",\"\",\"\",\"\"]#비밀번호 저장리스트\n",
    "        imf=[]\n",
    "        f_access.seek(0)\n",
    "        imf=f_access.read().split('\\n')#위에처럼 줄단위로 리스트를 나누고\n",
    "        for i in range(len(imf)):#아이디와 패스워드를 분리하여 각각 id_save와 password_save에 저장\n",
    "            id_index[i]=imf[i].find(\":\")\n",
    "            password_save[i]=imf[i][id_index[i]+1:imf[i].find(\",\")]\n",
    "            id_save[i]=imf[i][:id_index[i]]\n",
    "        for i in range(len(imf)):\n",
    "            if((id==id_save[i])and(password==password_save[i])):#아이디와 비번이 있는지 확인작업\n",
    "                first=imf[i].find(\",\")\n",
    "                second=imf[i].find(\",\",first+1)\n",
    "                print(\"Hello!\", end=\" \")\n",
    "                print(imf[i][first+1:second])\n",
    "                menu_theme()#맞으면 다시 메뉴 시작         \n",
    "        print(\"Sorry, the entered password is not correct.\")#없으면 없다는 메세지표시                     \n",
    "                             \n",
    "                \n",
    "def menu_theme():#초기메뉴함수\n",
    "    if(menu=='1'):\n",
    "        menu_1()\n",
    "    elif(menu=='2'):\n",
    "        menu_2()\n",
    "    elif(menu=='3'):\n",
    "        exit(0)\n",
    "    \n",
    "menu=input('''Welcome to Our Service\n",
    "1.Sign Up\n",
    "2.Sign In\n",
    "3.Quit\\n''')\n",
    "menu_theme()\n",
    "\n",
    "    \n",
    "   \n"
   ]
  },
  {
   "cell_type": "markdown",
   "metadata": {},
   "source": [
    "# [3번 문제]\n",
    "\n",
    "range() 함수와 유사한 frange() 함수를 다음 조건을 참고하여 만드시오.\n",
    "•1) frange()의 인자 구성은 다음과 같이 range와 동일하지만 각 인수들은 음수를 받지 않는다고 가정한다.\n",
    "\n",
    "range(stop)\n",
    " range(start, stop[, step])\n",
    "\n",
    "\n",
    "•2) frange() 함수의 인자에 대한 기본 시작(start) 값은 0.0이고, 기본 단계(step) 값은 0.1이다. \n",
    "•3) frange 사용 예◾3-1) frange(0.5)◦[0.0, 0.1, 0.2, 0.3, 0.4]\n",
    "\n",
    "◾3-2) frange(1.0, 2.0)◦[1.0, 1.1, 1.2, 1.3, 1.4, 1.5, 1.6, 1.7, 1.8, 1.9]\n",
    "\n",
    "◾3-3) frange(2.2, 4.0, 0.5)◦[2.2, 2.7, 3.2, 3.7]\n",
    "\n",
    "\n"
   ]
  },
  {
   "cell_type": "code",
   "execution_count": 3,
   "metadata": {},
   "outputs": [
    {
     "name": "stdout",
     "output_type": "stream",
     "text": [
      "[0.0, 0.1, 0.2, 0.3, 0.4, 0.5, 0.6, 0.7, 0.8, 0.9]\n",
      "[0.0, 0.1, 0.2, 0.3, 0.4, 0.5, 0.6, 0.7, 0.8, 0.9]\n",
      "[0.0, 0.1, 0.2, 0.3, 0.4]\n",
      "[0.0, 0.1, 0.2, 0.3, 0.4, 0.5, 0.6, 0.7, 0.8, 0.9]\n",
      "[0.0, 0.1, 0.2, 0.3, 0.4, 0.5, 0.6, 0.7, 0.8, 0.9, 1.0, 1.1, 1.2, 1.3, 1.4, 1.5, 1.6, 1.7, 1.8, 1.9, 2.0, 2.1]\n",
      "[]\n"
     ]
    }
   ],
   "source": [
    "def f_first(first):#인자의 값이 하나이면\n",
    "    i=float(0.0)\n",
    "    tmp=float(first[0])\n",
    "    save=[]\n",
    "    while (i<tmp):#i의 값이 first보다 커지기 전까지\n",
    "        save.append(i)#save에 저장\n",
    "        basis=0.1\n",
    "        i=i+basis#save에 0.1씩 더하여 저장\n",
    "        i=round(i,2)\n",
    "    return save\n",
    "\n",
    "def f_second(first):\n",
    "    if(len(first)==2):#인자의 값이 두개이면\n",
    "        start=float(first[0])\n",
    "        save=float(first[1])\n",
    "        basis_dif=0.1\n",
    "    elif(len(first)==3):#인자의 값이 세개이면\n",
    "        start=float(first[0])\n",
    "        save=float(first[1])\n",
    "        basis_dif=float(first[2])\n",
    "    else:\n",
    "        return\n",
    "    \n",
    "    n=basis_dif\n",
    "    stack=0\n",
    "    while (1):\n",
    "        if(n%1==0):#n의 자리수가 1을 넘어가면\n",
    "            break\n",
    "        else:\n",
    "            stack=stack+1#n의 자리수값을 추가하는 과정\n",
    "            n=n*10\n",
    "            \n",
    "    save=[]\n",
    "    i=start\n",
    "    while(i<tmp):\n",
    "        k.append(i)\n",
    "        i=i+basis_dif\n",
    "        i=round(i,cnt)\n",
    "    return save\n",
    "\n",
    "def frange(*basis):#인자의 값이 몇개인지 확인하여 비교하는 함수\n",
    "    s=str(basis)[1:-1].split(\",\")\n",
    "    if(s[-1]==''):\n",
    "        s.pop(-1)\n",
    "        \n",
    "    if(len(s)==1):\n",
    "        return f_first(s)\n",
    "    else:\n",
    "        return f_first(s)\n",
    "    \n",
    "print(frange(1))\n",
    "print(frange(1,2))\n",
    "print(frange(0.5))\n",
    "print(frange(1.0,2.0))\n",
    "print(frange(2.2,4.0,0.05))\n",
    "print(frange(0,0.1,0.001))"
   ]
  },
  {
   "cell_type": "markdown",
   "metadata": {},
   "source": [
    "# [4번 문제]\n",
    "\n",
    "가변인수를 받는 함수 sum()을 다음과 같은 조건을 참고하여 구현하시오\n",
    "•sum() 사용 예 ◾sum()◦0\n",
    "\n",
    "◾sum(1, 2)\n",
    "\n",
    "◦3\n",
    "\n",
    "◾sum(1, 2, 3, 4, 5)\n",
    "\n",
    "◦15\n",
    "\n",
    "◾sum(1, 5, 7, 2, -10)\n",
    "\n",
    "◦5\n",
    "\n",
    "\n"
   ]
  },
  {
   "cell_type": "code",
   "execution_count": 12,
   "metadata": {},
   "outputs": [
    {
     "name": "stdout",
     "output_type": "stream",
     "text": [
      "3\n",
      "15\n",
      "5\n"
     ]
    }
   ],
   "source": [
    "def sum(*a):\n",
    "    s=str(a)[1:-1].split(',')#a를 쉼표로 나눔\n",
    "    sum_stack=0\n",
    "    if(len(s)==0):\n",
    "        return 0\n",
    "    else:\n",
    "        for i in s:\n",
    "            sum_stack=sum_stack+int(i)#s의 값을 모두 더함\n",
    "        return sum_stack\n",
    "\n",
    "print(sum(1,2))   \n",
    "print(sum(1,2,3,4,5))\n",
    "print(sum(1,5,7,2,-10))"
   ]
  },
  {
   "cell_type": "markdown",
   "metadata": {},
   "source": [
    "# [5번 문제]\n",
    "\n",
    "여러 단어로 이루어진 문자열을 입력받아 각 단어의 첫글자로 이루어진 단어를 대문자로 출력하는 myinitial() 함수를 다음 조건을 참고하여 작성하시오.\n",
    "•1) 다음에 제시되는 함수들을 모두 이용해야 한다. ◾split\n",
    "◾map\n",
    "◾join\n",
    "\n",
    "•2) myinitial() 함수 사용 예◾myinitial(\"as soon as possible\")\n",
    "\n",
    "◦ASAP\n",
    "\n",
    "\n"
   ]
  },
  {
   "cell_type": "code",
   "execution_count": 17,
   "metadata": {},
   "outputs": [
    {
     "name": "stdout",
     "output_type": "stream",
     "text": [
      "ASAP\n"
     ]
    }
   ],
   "source": [
    "def returned(s):\n",
    "    return s[0]\n",
    "\n",
    "def print_upper(String):\n",
    "    L=String.split(\" \")#String값을 공백으로 나눠서 저장\n",
    "    L=map(returned,L)#각각의 초기문자를 l에 저장해서\n",
    "    S=''.join(L)#s 붙인다음\n",
    "    S=S.upper()#대문자로 바꿈\n",
    "    return S\n",
    "\n",
    "print(myinitial(\"as soon as possible\"))"
   ]
  },
  {
   "cell_type": "markdown",
   "metadata": {},
   "source": [
    "# [6번 문제]\n",
    "\n",
    "음이 아닌 정수 n를 입력받으면 n! (factorial)을 계산하는 myfact() 함수를 재귀적 함수로 구현하시오.\n",
    "•[옵션] 참을 수 있는 정도 만큼의 수행시간을 직접 기다려보면서 n을 늘려보도록 합시다. \n"
   ]
  },
  {
   "cell_type": "code",
   "execution_count": 27,
   "metadata": {},
   "outputs": [
    {
     "name": "stdout",
     "output_type": "stream",
     "text": [
      "402387260077093773543702433923003985719374864210714632543799910429938512398629020592044208486969404800479988610197196058631666872994808558901323829669944590997424504087073759918823627727188732519779505950995276120874975462497043601418278094646496291056393887437886487337119181045825783647849977012476632889835955735432513185323958463075557409114262417474349347553428646576611667797396668820291207379143853719588249808126867838374559731746136085379534524221586593201928090878297308431392844403281231558611036976801357304216168747609675871348312025478589320767169132448426236131412508780208000261683151027341827977704784635868170164365024153691398281264810213092761244896359928705114964975419909342221566832572080821333186116811553615836546984046708975602900950537616475847728421889679646244945160765353408198901385442487984959953319101723355556602139450399736280750137837615307127761926849034352625200015888535147331611702103968175921510907788019393178114194545257223865541461062892187960223838971476088506276862967146674697562911234082439208160153780889893964518263243671616762179168909779911903754031274622289988005195444414282012187361745992642956581746628302955570299024324153181617210465832036786906117260158783520751516284225540265170483304226143974286933061690897968482590125458327168226458066526769958652682272807075781391858178889652208164348344825993266043367660176999612831860788386150279465955131156552036093988180612138558600301435694527224206344631797460594682573103790084024432438465657245014402821885252470935190620929023136493273497565513958720559654228749774011413346962715422845862377387538230483865688976461927383814900140767310446640259899490222221765904339901886018566526485061799702356193897017860040811889729918311021171229845901641921068884387121855646124960798722908519296819372388642614839657382291123125024186649353143970137428531926649875337218940694281434118520158014123344828015051399694290153483077644569099073152433278288269864602789864321139083506217095002597389863554277196742822248757586765752344220207573630569498825087968928162753848863396909959826280956121450994871701244516461260379029309120889086942028510640182154399457156805941872748998094254742173582401063677404595741785160829230135358081840096996372524230560855903700624271243416909004153690105933983835777939410970027753472000000000000000000000000000000000000000000000000000000000000000000000000000000000000000000000000000000000000000000000000000000000000000000000000000000000000000000000000000000000000000000000000000000000000000000000000000000000000000000000000000000000\n"
     ]
    }
   ],
   "source": [
    "def factorial(n):\n",
    "    if(n<0):\n",
    "        return \"error\"\n",
    "    else:\n",
    "        if(n==1):\n",
    "            return 1\n",
    "        return n*factorial(n-1)\n",
    "    \n",
    "print(factorial(1000))#10000이후로는 오류발생으로 1000까지만 실행해봄    \n",
    "        "
   ]
  },
  {
   "cell_type": "markdown",
   "metadata": {},
   "source": [
    "# [7번 문제]\n",
    "\n",
    "(서술형) import string 과 from string import * 의 차이점을 설명하시오.\n"
   ]
  },
  {
   "cell_type": "code",
   "execution_count": 28,
   "metadata": {},
   "outputs": [],
   "source": [
    "import string\n",
    "from string import*\n",
    "#import string->이름공간 string이 유지된상태로 모든 것을 사용가능\n",
    "#string에 있는 모든 것들을 import시키는 것(필요한것들만 가져옴)"
   ]
  },
  {
   "cell_type": "code",
   "execution_count": null,
   "metadata": {},
   "outputs": [],
   "source": []
  }
 ],
 "metadata": {
  "kernelspec": {
   "display_name": "Python 3",
   "language": "python",
   "name": "python3"
  },
  "language_info": {
   "codemirror_mode": {
    "name": "ipython",
    "version": 3
   },
   "file_extension": ".py",
   "mimetype": "text/x-python",
   "name": "python",
   "nbconvert_exporter": "python",
   "pygments_lexer": "ipython3",
   "version": "3.6.5"
  }
 },
 "nbformat": 4,
 "nbformat_minor": 2
}
