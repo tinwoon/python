{
 "cells": [
  {
   "cell_type": "markdown",
   "metadata": {},
   "source": [
    "## L=[1, 2, 3, 4, 5]일 때 다음 각 문장을 수행한 후의 결과를 보고 납득할 만한 이유를 설명하시오.\n"
   ]
  },
  {
   "cell_type": "code",
   "execution_count": 2,
   "metadata": {},
   "outputs": [],
   "source": [
    "L=[1, 2, 3, 4, 5]"
   ]
  },
  {
   "cell_type": "code",
   "execution_count": 3,
   "metadata": {},
   "outputs": [
    {
     "name": "stdout",
     "output_type": "stream",
     "text": [
      "[1, 100, 4, 5]\n"
     ]
    }
   ],
   "source": [
    "L[1:3] = [100]#인덱스 1부터 2까지의 리스트값에 100을 넣는다\n",
    "print(L)"
   ]
  },
  {
   "cell_type": "code",
   "execution_count": 4,
   "metadata": {},
   "outputs": [
    {
     "name": "stdout",
     "output_type": "stream",
     "text": [
      "[1, 100, 5]\n"
     ]
    }
   ],
   "source": [
    "L[1:3] = [(100)]#인덱스 1부터 2까지의 리스트값에 (100)을 넣는다\n",
    "print(L)"
   ]
  },
  {
   "cell_type": "code",
   "execution_count": 8,
   "metadata": {},
   "outputs": [
    {
     "ename": "TypeError",
     "evalue": "can only assign an iterable",
     "output_type": "error",
     "traceback": [
      "\u001b[1;31m---------------------------------------------------------------------------\u001b[0m",
      "\u001b[1;31mTypeError\u001b[0m                                 Traceback (most recent call last)",
      "\u001b[1;32m<ipython-input-8-62885eff0ffc>\u001b[0m in \u001b[0;36m<module>\u001b[1;34m()\u001b[0m\n\u001b[1;32m----> 1\u001b[1;33m \u001b[0mL\u001b[0m\u001b[1;33m[\u001b[0m\u001b[1;36m1\u001b[0m\u001b[1;33m:\u001b[0m\u001b[1;36m3\u001b[0m\u001b[1;33m]\u001b[0m \u001b[1;33m=\u001b[0m \u001b[1;36m100\u001b[0m \u001b[1;31m#\u001b[0m\u001b[1;33m\u001b[0m\u001b[0m\n\u001b[0m\u001b[0;32m      2\u001b[0m \u001b[0mprint\u001b[0m\u001b[1;33m(\u001b[0m\u001b[0mL\u001b[0m\u001b[1;33m)\u001b[0m\u001b[1;33m\u001b[0m\u001b[0m\n",
      "\u001b[1;31mTypeError\u001b[0m: can only assign an iterable"
     ]
    }
   ],
   "source": [
    "L[1:3] = 100 #list값이 아닌 그냥 정수이기 때문에\n",
    "print(L)"
   ]
  },
  {
   "cell_type": "code",
   "execution_count": 6,
   "metadata": {},
   "outputs": [
    {
     "name": "stdout",
     "output_type": "stream",
     "text": [
      "[1, 100, 101, 102]\n"
     ]
    }
   ],
   "source": [
    "L[1:3] = (100, 101, 102)#인덱스 1부터 3까지의 리스트값에 100,101,102를 넣는다\n",
    "print(L)"
   ]
  },
  {
   "cell_type": "code",
   "execution_count": 10,
   "metadata": {},
   "outputs": [
    {
     "name": "stdout",
     "output_type": "stream",
     "text": [
      "[1, (100, 101, 102)]\n"
     ]
    }
   ],
   "source": [
    "L[1:3] = [(100, 101, 102)]#인덱스 1부터 3까지의 리스트값에 튜플(100,101,102)를 넣는다\n",
    "print(L)"
   ]
  },
  {
   "cell_type": "code",
   "execution_count": 12,
   "metadata": {},
   "outputs": [
    {
     "name": "stdout",
     "output_type": "stream",
     "text": [
      "[1, [100, 101, 102]]\n"
     ]
    }
   ],
   "source": [
    "L[1:3] = [[100, 101, 102]]#인덱스 1부터 3까지의 리스트값에 리스트[100,101,102]를 넣는다\n",
    "print(L)"
   ]
  },
  {
   "cell_type": "markdown",
   "metadata": {},
   "source": [
    "## •문자열 S = 'Hello World and Python'에 대해 다음 요구사항에 대한 Python 코드를 제시하시오. \n",
    "### ◾1) 단어의 순서가 역순으로 되어진 문자열 ('Python and World Hello')을 만들고 \n",
    "### ◾2) 1)의 결과 문자열에 대해 메소드 split과 join을 이용하여 공백을 모두 없엔 문자열 'PythonandWorldHello'을 만드시오.\n"
   ]
  },
  {
   "cell_type": "code",
   "execution_count": 32,
   "metadata": {},
   "outputs": [
    {
     "name": "stdout",
     "output_type": "stream",
     "text": [
      "Python and World Hello "
     ]
    }
   ],
   "source": [
    "s='Hello World and Python'\n",
    "u=s.split()#공백문자로 문자열을 분리후\n",
    "u.reverse()#뒤집기\n",
    "for i in u:\n",
    "    print(i, end=\" \")"
   ]
  },
  {
   "cell_type": "code",
   "execution_count": 34,
   "metadata": {},
   "outputs": [
    {
     "name": "stdout",
     "output_type": "stream",
     "text": [
      "PythonandWorldHello\n"
     ]
    }
   ],
   "source": [
    "u1=\"\".join(u)#join을 통해 공백없이 붙이기.\n",
    "print(u1)"
   ]
  },
  {
   "cell_type": "markdown",
   "metadata": {},
   "source": [
    "## •다음 코드를 보고 물음에 답하시오.\n",
    "a = [1, 2, 3]\n",
    "\n",
    "b = a * 3\n",
    "\n",
    "c = [a] * 3\n",
    "\n",
    "print(b)\n",
    "\n",
    "print(c)\n",
    "\n",
    "◾1) 위 코드를 수행한 이후 다음 코드를 수행한 후 b와 c의 내용을 확인하시오.a[0]=0\n",
    "\n",
    "◾2) b와 c 객체의 차이는 무엇인가?\n"
   ]
  },
  {
   "cell_type": "code",
   "execution_count": 35,
   "metadata": {},
   "outputs": [
    {
     "name": "stdout",
     "output_type": "stream",
     "text": [
      "[1, 2, 3, 1, 2, 3, 1, 2, 3]\n",
      "[[1, 2, 3], [1, 2, 3], [1, 2, 3]]\n"
     ]
    }
   ],
   "source": [
    "a = [1, 2, 3]\n",
    "b = a * 3\n",
    "c = [a] * 3\n",
    "print(b)\n",
    "print(c)"
   ]
  },
  {
   "cell_type": "code",
   "execution_count": 37,
   "metadata": {},
   "outputs": [
    {
     "name": "stdout",
     "output_type": "stream",
     "text": [
      "[1, 2, 3, 1, 2, 3, 1, 2, 3]\n",
      "[[0, 2, 3], [0, 2, 3], [0, 2, 3]]\n"
     ]
    }
   ],
   "source": [
    "a[0]=0\n",
    "print(b)#객체를 복사를 하게 됨으로 다른 값을 래퍼런스로 받기 때문에 그 값이 변하지 않고 그대로 간다.\n",
    "print(c)#c에서 [a]하면 객체를 가리킨 상태가 되기 때문에 하나가 변하면 나머지도 변하게 된다"
   ]
  },
  {
   "cell_type": "markdown",
   "metadata": {},
   "source": [
    "## •다음 문자열을 ':'을 기준으로 분리하여 리스트로 만들고 각 문자열의 좌우 공백을 제거하시오 (즉, 문자열 S에서 l을 만들어라) \n",
    "\n",
    "s = '  first star   :   second star   :    third star  '\n",
    "\n",
    "l = ['first star', 'second star', 'third star']\n"
   ]
  },
  {
   "cell_type": "code",
   "execution_count": 83,
   "metadata": {
    "scrolled": true
   },
   "outputs": [
    {
     "name": "stdout",
     "output_type": "stream",
     "text": [
      "['first star', 'second star', 'third star']\n"
     ]
    }
   ],
   "source": [
    "s = ' first star : second star : third star '\n",
    "tmp=\"\"\n",
    "l=[]\n",
    "index=0\n",
    "for i in range(len(s)):\n",
    "    if(s[i]!=\":\"):\n",
    "        tmp+=s[i]##tmp에 s를 계속 :를 만나기 전까지 넣는다 \n",
    "    else :## :를 만나면\n",
    "        index=i##\":\"를 만난 인덱스 값을 저장하고\n",
    "        tmp=tmp.strip()##공백을 제거한뒤\n",
    "        l+=[tmp]##tmp값을 리스트로 바꿔서 l에 넣는다\n",
    "        tmp=\"\"\n",
    "l_tmp=s[index+1:]## 마지막으로 \":\"를 찾았던 곳부터 마지막까지의 값을 넣어서\n",
    "l_tmp=l_tmp.strip()##공백을 제거 해준뒤\n",
    "l+=[l_tmp]##ㅣ에 넣는다\n",
    "print(l)\n",
    "        \n",
    "       \n",
    "    \n",
    "    \n",
    "    \n",
    "    \n",
    "\n",
    "    "
   ]
  },
  {
   "cell_type": "markdown",
   "metadata": {},
   "source": [
    "## •다음과 같이 0보다 큰 정수 리스트 변수 list를 인자로 받는 함수 addall(list)와 addallodd(list)를 for ~ in 리터널과 리스트 내포 방식으로 각각 제시하시오.\n",
    "\n",
    "◾1) addall(list) 함수 (리스트 내의 모든 정수를 더하는 함수로서 해답으로는 for ~ in 리터럴과 리스트 내포 방식으로 각각 제시하시오.)\n",
    "\n",
    "◦>>> addall([1])\n",
    "\n",
    "1\n",
    "\n",
    "◦>>> addall([1, 2, 3, 4, 5, 6, 7, 8, 9])\n",
    "\n",
    "45\n",
    "\n",
    "◾2) addallodd(list) 함수 (리스트내의 모든 홀수를 더하는 함수로서 해답으로는 for ~ in 리터럴과 리스트 내포 방식으로 각각 제시하시오.)\n",
    "\n",
    " addallodd([1])\n",
    "\n",
    "1\n",
    "\n",
    " addallodd([1, 2, 3, 4, 5, 6, 7, 8, 9])\n",
    "\n",
    "25\n",
    "\n",
    "\n",
    "참고 1]: 리스트 내포 방식으로 addall() 및 addallodd()함수를 만들 때엔 리스트 내포에 의해 생성된 리스트 결과에 대해 내장 함수를 사용하는 방식을 고려해보시오 (주의: 리스트 내포 방식의 addall() 및 addallodd() 함수의 몸체는 단 1줄로 작성되어야 한다.)\n",
    "\n",
    "[참고 2]: sum() 등의 내장함수 사용 가능함\n",
    "\n"
   ]
  },
  {
   "cell_type": "markdown",
   "metadata": {},
   "source": [
    "### 1)문제"
   ]
  },
  {
   "cell_type": "code",
   "execution_count": 87,
   "metadata": {},
   "outputs": [],
   "source": [
    "def addall(list):\n",
    "    sum=0\n",
    "    for i in range(len(list)):\n",
    "        sum=sum+list[i]#list값을 계속더하기\n",
    "    return sum    \n",
    "    "
   ]
  },
  {
   "cell_type": "code",
   "execution_count": 88,
   "metadata": {},
   "outputs": [
    {
     "data": {
      "text/plain": [
       "1"
      ]
     },
     "execution_count": 88,
     "metadata": {},
     "output_type": "execute_result"
    }
   ],
   "source": [
    "addall([1])"
   ]
  },
  {
   "cell_type": "code",
   "execution_count": 91,
   "metadata": {},
   "outputs": [
    {
     "data": {
      "text/plain": [
       "45"
      ]
     },
     "execution_count": 91,
     "metadata": {},
     "output_type": "execute_result"
    }
   ],
   "source": [
    "addall([1, 2, 3, 4, 5, 6, 7, 8, 9])"
   ]
  },
  {
   "cell_type": "code",
   "execution_count": 92,
   "metadata": {},
   "outputs": [],
   "source": [
    "def addall(list):\n",
    "    return sum(list)"
   ]
  },
  {
   "cell_type": "code",
   "execution_count": 93,
   "metadata": {},
   "outputs": [
    {
     "data": {
      "text/plain": [
       "1"
      ]
     },
     "execution_count": 93,
     "metadata": {},
     "output_type": "execute_result"
    }
   ],
   "source": [
    "addall([1])"
   ]
  },
  {
   "cell_type": "code",
   "execution_count": 95,
   "metadata": {},
   "outputs": [
    {
     "data": {
      "text/plain": [
       "45"
      ]
     },
     "execution_count": 95,
     "metadata": {},
     "output_type": "execute_result"
    }
   ],
   "source": [
    "addall([1, 2, 3, 4, 5, 6, 7, 8, 9])"
   ]
  },
  {
   "cell_type": "markdown",
   "metadata": {},
   "source": [
    "### 2)문제"
   ]
  },
  {
   "cell_type": "code",
   "execution_count": 99,
   "metadata": {},
   "outputs": [],
   "source": [
    "def addallodd(list):\n",
    "    sum=0\n",
    "    for i in range(len(list)):\n",
    "        if(list[i]%2==1):\n",
    "            sum=sum+list[i]\n",
    "    return sum  "
   ]
  },
  {
   "cell_type": "code",
   "execution_count": 100,
   "metadata": {},
   "outputs": [
    {
     "data": {
      "text/plain": [
       "1"
      ]
     },
     "execution_count": 100,
     "metadata": {},
     "output_type": "execute_result"
    }
   ],
   "source": [
    "addallodd([1])"
   ]
  },
  {
   "cell_type": "code",
   "execution_count": 101,
   "metadata": {},
   "outputs": [
    {
     "data": {
      "text/plain": [
       "25"
      ]
     },
     "execution_count": 101,
     "metadata": {},
     "output_type": "execute_result"
    }
   ],
   "source": [
    "addallodd([1, 2, 3, 4, 5, 6, 7, 8, 9])"
   ]
  },
  {
   "cell_type": "code",
   "execution_count": 106,
   "metadata": {},
   "outputs": [],
   "source": [
    "def addallodd(list):\n",
    "    return sum([list[i] for i in range(len(list)) if list[i]%2==1])"
   ]
  },
  {
   "cell_type": "code",
   "execution_count": 107,
   "metadata": {},
   "outputs": [
    {
     "data": {
      "text/plain": [
       "1"
      ]
     },
     "execution_count": 107,
     "metadata": {},
     "output_type": "execute_result"
    }
   ],
   "source": [
    "addallodd([1])"
   ]
  },
  {
   "cell_type": "code",
   "execution_count": 108,
   "metadata": {},
   "outputs": [
    {
     "data": {
      "text/plain": [
       "25"
      ]
     },
     "execution_count": 108,
     "metadata": {},
     "output_type": "execute_result"
    }
   ],
   "source": [
    "addallodd([1, 2, 3, 4, 5, 6, 7, 8, 9])"
   ]
  },
  {
   "cell_type": "markdown",
   "metadata": {},
   "source": [
    "## •다음 코드를 보고 물음에 답하시오.\n",
    "L1 = [1, 2, 3]\n",
    "\n",
    "L2 = [4, 5, 6]\n",
    "\n",
    "d = {'low':L1, 'high':L2}\n",
    "\n",
    "e = d\n",
    "\n",
    "f = d.copy()\n",
    "\n",
    "print(d)\n",
    "\n",
    "print(e)\n",
    "\n",
    "print(f)\n",
    "\n",
    "print()\n",
    "\n",
    "d['low'] = [10, 20, 30]\n",
    "\n",
    "d['high'][1] = 500\n",
    "\n",
    "print(d)\n",
    "\n",
    "print(e)\n",
    "\n",
    "print(f)\n",
    "\n",
    "◾1) 위 코드의 수행 결과 d와 e는 항상 같은 결과를 출력한다. 그 이유는 무엇인가?\n",
    "\n",
    "◾2) 위 코드의 수행 결과 마지막 f의 내용은 다음과 같다. 이 때 'high' 키의 값 내용 중 500이 출력된 이유와 'low' 키의 값 내용 중 [1, 2, 3]이 출력된 이유를 설명하시오 \n",
    "\n",
    "([hint]: shallow copy 관점에서 설명하시오.){'high': [4, 500, 6], 'low': [1, 2, 3]}\n",
    "\n"
   ]
  },
  {
   "cell_type": "code",
   "execution_count": 109,
   "metadata": {},
   "outputs": [
    {
     "name": "stdout",
     "output_type": "stream",
     "text": [
      "{'low': [1, 2, 3], 'high': [4, 5, 6]}\n",
      "{'low': [1, 2, 3], 'high': [4, 5, 6]}\n",
      "{'low': [1, 2, 3], 'high': [4, 5, 6]}\n",
      "\n",
      "{'low': [10, 20, 30], 'high': [4, 500, 6]}\n",
      "{'low': [10, 20, 30], 'high': [4, 500, 6]}\n",
      "{'low': [1, 2, 3], 'high': [4, 500, 6]}\n"
     ]
    }
   ],
   "source": [
    "L1 = [1, 2, 3]\n",
    "L2 = [4, 5, 6]\n",
    "d = {'low':L1, 'high':L2}\n",
    "e = d\n",
    "f = d.copy()\n",
    "print(d)\n",
    "print(e)\n",
    "print(f)\n",
    "print()\n",
    "d['low'] = [10, 20, 30]\n",
    "d['high'][1] = 500\n",
    "print(d)\n",
    "print(e)\n",
    "print(f)"
   ]
  },
  {
   "cell_type": "markdown",
   "metadata": {},
   "source": [
    "#### 1)위 코드의 수행 결과 d와 e는 항상 같은 결과를 출력한다. 그 이유는 무엇인가?\n",
    "\n",
    "d와e는 레퍼런스를 서로 공유하기 때문이다"
   ]
  },
  {
   "cell_type": "markdown",
   "metadata": {},
   "source": [
    "#### 2) 위 코드의 수행 결과 마지막 f의 내용은 다음과 같다. 이 때 'high' 키의 값 내용 중 500이 출력된 이유와 'low' 키의 값 내용 중 [1, 2, 3]이 출력된 이유를 설명하시오 \n",
    "\n",
    "copy함수에 의해 복사가 이루어졌지만 얕은 복사 이후의[1]은 같은 리스트의 값을 공유한다.\n",
    "d['low'] = [10, 20, 30]는 얕은 복사까지로 값이 변하지 않지만 d['high'][1] = 500은 한단계 위의 복사로 영향이 미친다."
   ]
  },
  {
   "cell_type": "markdown",
   "metadata": {},
   "source": [
    "## 사전 d = {'one':1, 'two':2, 'three':3, 'four':4, 'five':5}가 주어졌을 때 다음 요구사항에 맞는 코드를 제시하시오 \n",
    "◾[참고]: d.keys(), d.values()를 통해 리스트를 얻어낸 후 리스트가 지니고 있는 sort(cmp=None, key=None, reverse=False)함수를 활용하시오.\n",
    "\n",
    "◾1) 키의 알파벳 오름차순 순서대로 튜플 (키, 값)을 차례대로 출력하시오.\n",
    "\n",
    "◾2) 키의 알파벳 내림차순 순서대로 튜플 (키, 값)을 차례대로 출력하시오.\n",
    "\n",
    "◾3) 값의 오름차순 순서대로 튜플 (키, 값)을 차례대로 출력하시오. \n",
    "\n",
    "◾4) 값의 내림차순 순서대로 튜플 (키, 값)을 차례대로 출력하시오.\n"
   ]
  },
  {
   "cell_type": "code",
   "execution_count": 40,
   "metadata": {},
   "outputs": [],
   "source": [
    "d = {'one':1, 'two':2, 'three':3, 'four':4, 'five':5}\n",
    "\n",
    "dickey=d.keys()#키 값을 받도록 함\n",
    "dicvalue=d.values()# value 값을 받도록 함"
   ]
  },
  {
   "cell_type": "code",
   "execution_count": 5,
   "metadata": {},
   "outputs": [
    {
     "name": "stdout",
     "output_type": "stream",
     "text": [
      "[('five', 5), ('four', 4), ('one', 1), ('three', 3), ('two', 2)]\n"
     ]
    }
   ],
   "source": [
    "items=list(d.items())\n",
    "items.sort()#list를 정렬\n",
    "print(items)"
   ]
  },
  {
   "cell_type": "code",
   "execution_count": 6,
   "metadata": {},
   "outputs": [
    {
     "name": "stdout",
     "output_type": "stream",
     "text": [
      "[('two', 2), ('three', 3), ('one', 1), ('four', 4), ('five', 5)]\n"
     ]
    }
   ],
   "source": [
    "items.sort(reverse=True)\n",
    "print(items)"
   ]
  },
  {
   "cell_type": "code",
   "execution_count": 57,
   "metadata": {},
   "outputs": [
    {
     "name": "stdout",
     "output_type": "stream",
     "text": [
      "[('one', 1), ('two', 2), ('three', 3), ('four', 4), ('five', 5)]\n",
      "[('five', 5), ('four', 4), ('three', 3), ('two', 2), ('one', 1)]\n"
     ]
    }
   ],
   "source": [
    "list_cmp=list(zip(dickey,dicvalue))\n",
    "def cmp_by_each_element(a):\n",
    "    return a[1]\n",
    "\n",
    "list_cmp.sort(key=cmp_by_each_element)# 두번째 인자의 값을 정렬하도록 만듬\n",
    "print(list_cmp)\n",
    "list_cmp.sort(key=cmp_by_each_element,reverse=True) #두번째 인자의 값을 반대로 정렬하도록 만듬\n",
    "print(list_cmp)"
   ]
  },
  {
   "cell_type": "markdown",
   "metadata": {},
   "source": [
    "과제의 문제 개수가 기하급수적으로 느는데 python은 점점 문법 오류가 자꾸 떠서 너무 어렵고 시간문제로 8,9번 문제를 풀지 못했습니다. 너무 제 자신이 자만한것 같습니다. 좀더 열심히 해야할듯 합니다."
   ]
  },
  {
   "cell_type": "code",
   "execution_count": null,
   "metadata": {},
   "outputs": [],
   "source": []
  }
 ],
 "metadata": {
  "kernelspec": {
   "display_name": "Python 3",
   "language": "python",
   "name": "python3"
  },
  "language_info": {
   "codemirror_mode": {
    "name": "ipython",
    "version": 3
   },
   "file_extension": ".py",
   "mimetype": "text/x-python",
   "name": "python",
   "nbconvert_exporter": "python",
   "pygments_lexer": "ipython3",
   "version": "3.6.5"
  }
 },
 "nbformat": 4,
 "nbformat_minor": 2
}
